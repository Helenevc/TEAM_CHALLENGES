{
 "cells": [
  {
   "cell_type": "code",
   "execution_count": 2,
   "id": "9c8434a5",
   "metadata": {},
   "outputs": [],
   "source": [
    "import pandas as pd\n",
    "import sqlite3\n",
    "\n",
    "connection = sqlite3.connect(\"./data/sql-murder-mystery.db\")\n",
    "cursor = connection.cursor()"
   ]
  },
  {
   "cell_type": "code",
   "execution_count": 19,
   "id": "563f5d10",
   "metadata": {},
   "outputs": [
    {
     "data": {
      "text/plain": [
       "[(20180115,\n",
       "  'SQL City',\n",
       "  'assault',\n",
       "  'Hamilton: Lee, do you yield? Burr: You shot him in the side! Yes he yields!'),\n",
       " (20180115, 'SQL City', 'assault', 'Report Not Found'),\n",
       " (20180115,\n",
       "  'SQL City',\n",
       "  'murder',\n",
       "  'Security footage shows that there were 2 witnesses. The first witness lives at the last house on \"Northwestern Dr\". The second witness, named Annabel, lives somewhere on \"Franklin Ave\".')]"
      ]
     },
     "execution_count": 19,
     "metadata": {},
     "output_type": "execute_result"
    }
   ],
   "source": [
    "query='''\n",
    "SELECT date, city , type, description\n",
    "  FROM crime_scene_report\n",
    "  WHERE date = 20180115 and city =\"SQL City\"\n",
    "  '''\n",
    "\n",
    "cursor.execute(query)\n",
    "cursor.fetchall()\n",
    "\n",
    "\n",
    "#\tSecurity footage shows that there were 2 witnesses. The first witness lives at the last house on \"Northwestern Dr\". The second witness, named Annabel, lives somewhere on \"Franklin Ave\"."
   ]
  },
  {
   "cell_type": "code",
   "execution_count": 8,
   "id": "b410fd58",
   "metadata": {},
   "outputs": [
    {
     "data": {
      "text/plain": [
       "[('Annabel Miller', 16371, 'Franklin Ave')]"
      ]
     },
     "execution_count": 8,
     "metadata": {},
     "output_type": "execute_result"
    }
   ],
   "source": [
    "query='''\n",
    "SELECT name, id, address_street_name\n",
    "  FROM person\n",
    "  WHERE address_street_name = \"Franklin Ave\" and name like \"Annabel%\"\n",
    "'''\n",
    "cursor.fetchall()\n",
    "\n",
    "#Id = 16371"
   ]
  },
  {
   "cell_type": "code",
   "execution_count": 10,
   "id": "cce168ae",
   "metadata": {},
   "outputs": [],
   "source": [
    "cursor = connection.cursor()"
   ]
  },
  {
   "cell_type": "code",
   "execution_count": 18,
   "id": "e63db23d",
   "metadata": {},
   "outputs": [
    {
     "data": {
      "text/plain": [
       "[('I saw the murder happen, and I recognized the killer from my gym when I was working out last week on January the 9th.',)]"
      ]
     },
     "execution_count": 18,
     "metadata": {},
     "output_type": "execute_result"
    }
   ],
   "source": [
    "query='''\n",
    "SELECT transcript\n",
    "  FROM interview\n",
    "  WHERE person_id = 16371\n",
    "'''\n",
    "\n",
    "cursor.execute(query)\n",
    "cursor.fetchall()\n",
    "#I saw the murder happen, and I recognized the killer from my gym when I was working out last week on January the 9th.\n"
   ]
  },
  {
   "cell_type": "code",
   "execution_count": 17,
   "id": "07211a9e",
   "metadata": {},
   "outputs": [
    {
     "data": {
      "text/plain": [
       "[('X0643',),\n",
       " ('UK1F2',),\n",
       " ('XTE42',),\n",
       " ('1AE2H',),\n",
       " ('6LSTG',),\n",
       " ('7MWHJ',),\n",
       " ('GE5Q8',),\n",
       " ('48Z7A',),\n",
       " ('48Z55',),\n",
       " ('90081',)]"
      ]
     },
     "execution_count": 17,
     "metadata": {},
     "output_type": "execute_result"
    }
   ],
   "source": [
    "query='''\n",
    "SELECT membership_id\n",
    "  FROM get_fit_now_check_in\n",
    "  WHERE check_in_date like \"20180109\"\n",
    "'''\n",
    "\n",
    "cursor.execute(query)\n",
    "cursor.fetchall()\n"
   ]
  },
  {
   "cell_type": "markdown",
   "id": "0753d584",
   "metadata": {},
   "source": [
    "membership_id\n",
    "X0643\n",
    "UK1F2\n",
    "XTE42\n",
    "1AE2H\n",
    "6LSTG\n",
    "7MWHJ\n",
    "GE5Q8\n",
    "48Z7A\n",
    "48Z55\n",
    "90081"
   ]
  },
  {
   "cell_type": "markdown",
   "id": "113ef682",
   "metadata": {},
   "source": [
    "The first witness lives at the last house on \"Northwestern Dr\"."
   ]
  },
  {
   "cell_type": "code",
   "execution_count": 22,
   "id": "7ed8a92f",
   "metadata": {},
   "outputs": [
    {
     "data": {
      "text/plain": [
       "[(4919, 14887)]"
      ]
     },
     "execution_count": 22,
     "metadata": {},
     "output_type": "execute_result"
    }
   ],
   "source": [
    "\n",
    "query= '''\n",
    "SELECT MAX (address_number), id\n",
    "  FROM person\n",
    "  WHERE address_street_name = \"Northwestern Dr\"\n",
    "  order by address_number\n",
    "'''\n",
    "cursor.execute(query)  \n",
    "cursor.fetchall()\n",
    "\n"
   ]
  },
  {
   "cell_type": "markdown",
   "id": "51b74724",
   "metadata": {},
   "source": [
    "address_number\tid\n",
    "\n",
    "4919\t14887"
   ]
  },
  {
   "cell_type": "code",
   "execution_count": 24,
   "id": "ad87d792",
   "metadata": {},
   "outputs": [
    {
     "data": {
      "text/plain": [
       "[('I heard a gunshot and then saw a man run out. He had a \"Get Fit Now Gym\" bag. The membership number on the bag started with \"48Z\". Only gold members have those bags. The man got into a car with a plate that included \"H42W\".',)]"
      ]
     },
     "execution_count": 24,
     "metadata": {},
     "output_type": "execute_result"
    }
   ],
   "source": [
    "query = '''\n",
    "SELECT transcript\n",
    "  FROM interview\n",
    "  WHERE person_id = 14887\n",
    "'''\n",
    "cursor.execute(query)\n",
    "cursor.fetchall()\n",
    "\n"
   ]
  },
  {
   "cell_type": "markdown",
   "id": "69ac3f9e",
   "metadata": {},
   "source": [
    "I heard a gunshot and then saw a man run out. He had a \"Get Fit Now Gym\" bag. The membership number on the bag started with \"48Z\". Only gold members have those bags. The man got into a car with a plate that included \"H42W\"."
   ]
  },
  {
   "cell_type": "code",
   "execution_count": 25,
   "id": "800258d9",
   "metadata": {},
   "outputs": [
    {
     "data": {
      "text/plain": [
       "[('48Z7A', 20180109, 1600, 1730), ('48Z55', 20180109, 1530, 1700)]"
      ]
     },
     "execution_count": 25,
     "metadata": {},
     "output_type": "execute_result"
    }
   ],
   "source": [
    "query= '''SELECT *\n",
    "  FROM get_fit_now_check_in\n",
    "  WHERE membership_id like\"48Z%\" and check_in_date like \"20180109\"\n",
    "'''\n",
    "\n",
    "cursor.execute(query)\n",
    "cursor.fetchall()"
   ]
  },
  {
   "cell_type": "markdown",
   "id": "1c8b0a5d",
   "metadata": {},
   "source": [
    "membership_id\tcheck_in_date\tcheck_in_time\tcheck_out_time\n",
    "48Z7A\t20180109\t1600\t1730\n",
    "48Z55\t20180109\t1530\t1700"
   ]
  },
  {
   "cell_type": "code",
   "execution_count": 26,
   "id": "c076a953",
   "metadata": {},
   "outputs": [
    {
     "data": {
      "text/plain": [
       "[('48Z55', 67318, 'Jeremy Bowers', 20160101, 'gold'),\n",
       " ('48Z7A', 28819, 'Joe Germuska', 20160305, 'gold')]"
      ]
     },
     "execution_count": 26,
     "metadata": {},
     "output_type": "execute_result"
    }
   ],
   "source": [
    "query= '''\n",
    "SELECT *\n",
    "  FROM get_fit_now_member\n",
    "  WHERE id = \"48Z7A\" or id = \"48Z55\"\n",
    "'''\n",
    "\n",
    "cursor.execute(query)\n",
    "cursor.fetchall()"
   ]
  },
  {
   "cell_type": "markdown",
   "id": "cfa1777e",
   "metadata": {},
   "source": [
    "id\tperson_id\tname\tmembership_start_date\tmembership_status\n",
    "48Z55\t67318\tJeremy Bowers\t20160101\tgold\n",
    "48Z7A\t28819\tJoe Germuska\t20160305\tgold"
   ]
  },
  {
   "cell_type": "code",
   "execution_count": 27,
   "id": "cf4af171",
   "metadata": {},
   "outputs": [
    {
     "data": {
      "text/plain": [
       "[(183779,), (423327,), (664760,)]"
      ]
     },
     "execution_count": 27,
     "metadata": {},
     "output_type": "execute_result"
    }
   ],
   "source": [
    "query= '''SELECT id\n",
    "  FROM drivers_license\n",
    "  WHERE plate_number like \"%H42W%\" \n",
    "'''\n",
    "cursor.execute(query)\n",
    "cursor.fetchall()\n",
    "\n",
    "\n"
   ]
  },
  {
   "cell_type": "markdown",
   "id": "44a4a7e6",
   "metadata": {},
   "source": [
    "id\n",
    "183779\n",
    "423327\n",
    "664760"
   ]
  },
  {
   "cell_type": "code",
   "execution_count": 31,
   "id": "ef5e950f",
   "metadata": {},
   "outputs": [
    {
     "name": "stdout",
     "output_type": "stream",
     "text": [
      "Y aqui tenemos todos los datos del assesino:\n"
     ]
    },
    {
     "data": {
      "text/plain": [
       "[(67318, 'Jeremy Bowers', 423327, 530, 'Washington Pl, Apt 3A', 871539279)]"
      ]
     },
     "execution_count": 31,
     "metadata": {},
     "output_type": "execute_result"
    }
   ],
   "source": [
    "query= '''SELECT *\n",
    "  FROM person\n",
    "  WHERE license_id IN (\"183779\", \"423327\", \"664760\") AND\n",
    "  id IN (\"67318\", \"28819\") AND\n",
    "  name IN (\"Jeremy Bowers\", \"Joe Germuska\");\n",
    "'''\n",
    "cursor.execute(query)\n",
    "print(\"Y aqui tenemos todos los datos del assesino:\")\n",
    "cursor.fetchall()\n",
    "\n",
    "\n",
    "\n",
    "\n"
   ]
  },
  {
   "cell_type": "markdown",
   "id": "2289236b",
   "metadata": {},
   "source": [
    "id\tname\tlicense_id\taddress_number\taddress_street_name\tssn\n",
    "51739\tTushar Chandra\t664760\t312\tPhi St\t137882671\n",
    "67318\tJeremy Bowers\t423327\t530\tWashington Pl, Apt 3A\t871539279\n",
    "78193\tMaxine Whitely\t183779\t110\tFisk Rd\t137882671\n"
   ]
  }
 ],
 "metadata": {
  "kernelspec": {
   "display_name": "Python 3",
   "language": "python",
   "name": "python3"
  },
  "language_info": {
   "codemirror_mode": {
    "name": "ipython",
    "version": 3
   },
   "file_extension": ".py",
   "mimetype": "text/x-python",
   "name": "python",
   "nbconvert_exporter": "python",
   "pygments_lexer": "ipython3",
   "version": "3.13.2"
  }
 },
 "nbformat": 4,
 "nbformat_minor": 5
}
