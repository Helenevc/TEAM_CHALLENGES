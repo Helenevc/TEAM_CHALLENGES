{
 "cells": [
  {
   "cell_type": "code",
   "execution_count": 29,
   "id": "96cc74af",
   "metadata": {},
   "outputs": [],
   "source": [
    "import pandas as pd\n",
    "import sqlite3"
   ]
  },
  {
   "cell_type": "code",
   "execution_count": 30,
   "id": "e2a23708",
   "metadata": {},
   "outputs": [],
   "source": [
    "connection = sqlite3.connect(\"DB_proveedores.bd\")"
   ]
  },
  {
   "cell_type": "code",
   "execution_count": 31,
   "id": "2be5ceb9",
   "metadata": {},
   "outputs": [],
   "source": [
    "cursor_gestion = connection.cursor()"
   ]
  },
  {
   "cell_type": "code",
   "execution_count": 32,
   "id": "9fb4099b",
   "metadata": {},
   "outputs": [
    {
     "ename": "OperationalError",
     "evalue": "table PROV already exists",
     "output_type": "error",
     "traceback": [
      "\u001b[31m---------------------------------------------------------------------------\u001b[39m",
      "\u001b[31mOperationalError\u001b[39m                          Traceback (most recent call last)",
      "\u001b[36mCell\u001b[39m\u001b[36m \u001b[39m\u001b[32mIn[32]\u001b[39m\u001b[32m, line 9\u001b[39m\n\u001b[32m      1\u001b[39m query_create = \u001b[33m'''\u001b[39m\n\u001b[32m      2\u001b[39m \u001b[33mCREATE TABLE PROV(\u001b[39m\n\u001b[32m      3\u001b[39m \u001b[33m ID_PROV           PRIMARY KEY NOT NULL,\u001b[39m\n\u001b[32m   (...)\u001b[39m\u001b[32m      7\u001b[39m \u001b[33m Provincia         TEXT\u001b[39m\n\u001b[32m      8\u001b[39m \u001b[33m )\u001b[39m\u001b[33m'''\u001b[39m\n\u001b[32m----> \u001b[39m\u001b[32m9\u001b[39m \u001b[43mcursor_gestion\u001b[49m\u001b[43m.\u001b[49m\u001b[43mexecute\u001b[49m\u001b[43m(\u001b[49m\u001b[43mquery_create\u001b[49m\u001b[43m)\u001b[49m\n",
      "\u001b[31mOperationalError\u001b[39m: table PROV already exists"
     ]
    }
   ],
   "source": [
    "query_create = '''\n",
    "CREATE TABLE PROV(\n",
    " ID_PROV           PRIMARY KEY NOT NULL,\n",
    " Nombre_proveedor  TEXT NOT NULL,\n",
    " Direccion         TEXT,\n",
    " Ciudad            TEXT,\n",
    " Provincia         TEXT\n",
    " )'''\n",
    "cursor_gestion.execute(query_create)"
   ]
  },
  {
   "cell_type": "code",
   "execution_count": 33,
   "id": "4437d623",
   "metadata": {},
   "outputs": [
    {
     "data": {
      "text/plain": [
       "[('table',\n",
       "  'PROV',\n",
       "  'PROV',\n",
       "  2,\n",
       "  'CREATE TABLE PROV(\\n ID_PROV           PRIMARY KEY NOT NULL,\\n Nombre_proveedor  TEXT NOT NULL,\\n Direccion         TEXT,\\n Ciudad            TEXT,\\n Provincia         TEXT\\n )'),\n",
       " ('table',\n",
       "  'PEDIDO_PROV',\n",
       "  'PEDIDO_PROV',\n",
       "  4,\n",
       "  'CREATE TABLE PEDIDO_PROV(\\n NUM_PEDIDO        PRIMARY KEY NOT NULL,\\n ID_PIEZA          TEXT NOT NULL,\\n ID_PROVEEDOR         TEXT,\\n FECHA            TEXT,\\n CANTIDAD         TEXT\\n )'),\n",
       " ('table',\n",
       "  'PIEZAS',\n",
       "  'PIEZAS',\n",
       "  6,\n",
       "  'CREATE TABLE PIEZAS(\\n ID_PIEZA        PRIMARY KEY NOT NULL,\\n NOMBRE          TEXT NOT NULL,\\n COLOR              TEXT,\\n PRECIO            FLOAT NOT NULL,\\n CATEGORIA         TEXT\\n )'),\n",
       " ('table',\n",
       "  'CATEGORIA',\n",
       "  'CATEGORIA',\n",
       "  8,\n",
       "  'CREATE TABLE CATEGORIA(\\n CODIGO_CAT        PRIMARY KEY NOT NULL,\\n NOMBRE         TEXT\\n )')]"
      ]
     },
     "execution_count": 33,
     "metadata": {},
     "output_type": "execute_result"
    }
   ],
   "source": [
    "query = \"SELECT* FROM sqlite_master WHERE type == 'table'\"\n",
    "cursor_gestion.execute(query)\n",
    "cursor_gestion.fetchall()"
   ]
  },
  {
   "cell_type": "code",
   "execution_count": 34,
   "id": "ca85f5c4",
   "metadata": {},
   "outputs": [
    {
     "ename": "IntegrityError",
     "evalue": "UNIQUE constraint failed: PROV.ID_PROV",
     "output_type": "error",
     "traceback": [
      "\u001b[31m---------------------------------------------------------------------------\u001b[39m",
      "\u001b[31mIntegrityError\u001b[39m                            Traceback (most recent call last)",
      "\u001b[36mCell\u001b[39m\u001b[36m \u001b[39m\u001b[32mIn[34]\u001b[39m\u001b[32m, line 13\u001b[39m\n\u001b[32m     11\u001b[39m Ciudad = valores[\u001b[32m1\u001b[39m]\n\u001b[32m     12\u001b[39m query= \u001b[33mf\u001b[39m\u001b[33m\"\u001b[39m\u001b[33mINSERT INTO PROV (ID_PROV, Nombre_proveedor, Ciudad) VALUES (\u001b[39m\u001b[33m'\u001b[39m\u001b[38;5;132;01m{\u001b[39;00mindice\u001b[38;5;132;01m}\u001b[39;00m\u001b[33m'\u001b[39m\u001b[33m, \u001b[39m\u001b[33m'\u001b[39m\u001b[38;5;132;01m{\u001b[39;00mNombre\u001b[38;5;132;01m}\u001b[39;00m\u001b[33m'\u001b[39m\u001b[33m, \u001b[39m\u001b[33m'\u001b[39m\u001b[38;5;132;01m{\u001b[39;00mCiudad\u001b[38;5;132;01m}\u001b[39;00m\u001b[33m'\u001b[39m\u001b[33m)\u001b[39m\u001b[33m\"\u001b[39m\n\u001b[32m---> \u001b[39m\u001b[32m13\u001b[39m \u001b[43mcursor_gestion\u001b[49m\u001b[43m.\u001b[49m\u001b[43mexecute\u001b[49m\u001b[43m(\u001b[49m\u001b[43mquery\u001b[49m\u001b[43m)\u001b[49m\n",
      "\u001b[31mIntegrityError\u001b[39m: UNIQUE constraint failed: PROV.ID_PROV"
     ]
    }
   ],
   "source": [
    "#INSERT DATOS\n",
    "\n",
    "datos={\n",
    "\"ID101\" : (\"Jose\", \"Barcelona\"),\n",
    "\"ID102\" : (\"Sandra\", \"Bilbao\"),\n",
    "\"ID103\" : (\"Theo\", \"Valencia\")\n",
    "}\n",
    "\n",
    "for indice, (nombre, valores) in enumerate (datos.items()):\n",
    "    Nombre = valores[0]\n",
    "    Ciudad = valores[1]\n",
    "    query= f\"INSERT INTO PROV (ID_PROV, Nombre_proveedor, Ciudad) VALUES ('{indice}', '{Nombre}', '{Ciudad}')\"\n",
    "    cursor_gestion.execute(query)\n"
   ]
  },
  {
   "cell_type": "code",
   "execution_count": 9,
   "id": "76e886ed",
   "metadata": {},
   "outputs": [],
   "source": [
    "connection.commit()"
   ]
  },
  {
   "cell_type": "code",
   "execution_count": 35,
   "id": "5b115b87",
   "metadata": {},
   "outputs": [
    {
     "name": "stdout",
     "output_type": "stream",
     "text": [
      "<class 'pandas.core.frame.DataFrame'>\n",
      "RangeIndex: 3 entries, 0 to 2\n",
      "Data columns (total 5 columns):\n",
      " #   Column            Non-Null Count  Dtype \n",
      "---  ------            --------------  ----- \n",
      " 0   ID_PROV           3 non-null      object\n",
      " 1   Nombre_proveedor  3 non-null      object\n",
      " 2   Direccion         0 non-null      object\n",
      " 3   Ciudad            3 non-null      object\n",
      " 4   Provincia         0 non-null      object\n",
      "dtypes: object(5)\n",
      "memory usage: 252.0+ bytes\n"
     ]
    }
   ],
   "source": [
    "query = ''' SELECT* FROM PROV'''\n",
    "df= pd.read_sql(query, connection)\n",
    "df.info()"
   ]
  },
  {
   "cell_type": "code",
   "execution_count": 36,
   "id": "ca02fbee",
   "metadata": {},
   "outputs": [],
   "source": [
    "connection.close()"
   ]
  },
  {
   "cell_type": "code",
   "execution_count": 37,
   "id": "f8c3c283",
   "metadata": {},
   "outputs": [],
   "source": [
    "# vuelvo a abrir connection\n",
    "connection = sqlite3.connect(\"DB_proveedores.bd\")\n",
    "cursor= connection.cursor()\n"
   ]
  },
  {
   "cell_type": "code",
   "execution_count": 38,
   "id": "3fe43a24",
   "metadata": {},
   "outputs": [
    {
     "ename": "OperationalError",
     "evalue": "table PEDIDO_PROV already exists",
     "output_type": "error",
     "traceback": [
      "\u001b[31m---------------------------------------------------------------------------\u001b[39m",
      "\u001b[31mOperationalError\u001b[39m                          Traceback (most recent call last)",
      "\u001b[36mCell\u001b[39m\u001b[36m \u001b[39m\u001b[32mIn[38]\u001b[39m\u001b[32m, line 10\u001b[39m\n\u001b[32m      1\u001b[39m \u001b[38;5;66;03m# CREACION TABLA 2\u001b[39;00m\n\u001b[32m      2\u001b[39m query_create = \u001b[33m'''\u001b[39m\n\u001b[32m      3\u001b[39m \u001b[33mCREATE TABLE PEDIDO_PROV(\u001b[39m\n\u001b[32m      4\u001b[39m \u001b[33m NUM_PEDIDO        PRIMARY KEY NOT NULL,\u001b[39m\n\u001b[32m   (...)\u001b[39m\u001b[32m      8\u001b[39m \u001b[33m CANTIDAD         TEXT\u001b[39m\n\u001b[32m      9\u001b[39m \u001b[33m )\u001b[39m\u001b[33m'''\u001b[39m\n\u001b[32m---> \u001b[39m\u001b[32m10\u001b[39m \u001b[43mcursor\u001b[49m\u001b[43m.\u001b[49m\u001b[43mexecute\u001b[49m\u001b[43m(\u001b[49m\u001b[43mquery_create\u001b[49m\u001b[43m)\u001b[49m\n",
      "\u001b[31mOperationalError\u001b[39m: table PEDIDO_PROV already exists"
     ]
    }
   ],
   "source": [
    "# CREACION TABLA 2\n",
    "query_create = '''\n",
    "CREATE TABLE PEDIDO_PROV(\n",
    " NUM_PEDIDO        PRIMARY KEY NOT NULL,\n",
    " ID_PIEZA          TEXT NOT NULL,\n",
    " ID_PROV         TEXT,\n",
    " FECHA            TEXT,\n",
    " CANTIDAD         TEXT\n",
    " )'''\n",
    "cursor.execute(query_create)"
   ]
  },
  {
   "cell_type": "code",
   "execution_count": 39,
   "id": "14aadab3",
   "metadata": {},
   "outputs": [
    {
     "ename": "OperationalError",
     "evalue": "table PIEZAS already exists",
     "output_type": "error",
     "traceback": [
      "\u001b[31m---------------------------------------------------------------------------\u001b[39m",
      "\u001b[31mOperationalError\u001b[39m                          Traceback (most recent call last)",
      "\u001b[36mCell\u001b[39m\u001b[36m \u001b[39m\u001b[32mIn[39]\u001b[39m\u001b[32m, line 10\u001b[39m\n\u001b[32m      1\u001b[39m \u001b[38;5;66;03m# CREACION TABLA 3\u001b[39;00m\n\u001b[32m      2\u001b[39m query_create = \u001b[33m'''\u001b[39m\n\u001b[32m      3\u001b[39m \u001b[33mCREATE TABLE PIEZAS(\u001b[39m\n\u001b[32m      4\u001b[39m \u001b[33m ID_PIEZA        PRIMARY KEY NOT NULL,\u001b[39m\n\u001b[32m   (...)\u001b[39m\u001b[32m      8\u001b[39m \u001b[33m CATEGORIA         TEXT\u001b[39m\n\u001b[32m      9\u001b[39m \u001b[33m )\u001b[39m\u001b[33m'''\u001b[39m\n\u001b[32m---> \u001b[39m\u001b[32m10\u001b[39m \u001b[43mcursor\u001b[49m\u001b[43m.\u001b[49m\u001b[43mexecute\u001b[49m\u001b[43m(\u001b[49m\u001b[43mquery_create\u001b[49m\u001b[43m)\u001b[49m\n",
      "\u001b[31mOperationalError\u001b[39m: table PIEZAS already exists"
     ]
    }
   ],
   "source": [
    "# CREACION TABLA 3\n",
    "query_create = '''\n",
    "CREATE TABLE PIEZAS(\n",
    " ID_PIEZA        PRIMARY KEY NOT NULL,\n",
    " NOMBRE          TEXT NOT NULL,\n",
    " COLOR              TEXT,\n",
    " PRECIO            FLOAT NOT NULL,\n",
    " CATEGORIA         TEXT\n",
    " )'''\n",
    "cursor.execute(query_create)"
   ]
  },
  {
   "cell_type": "code",
   "execution_count": 40,
   "id": "5ca7b2eb",
   "metadata": {},
   "outputs": [
    {
     "ename": "OperationalError",
     "evalue": "table CATEGORIA already exists",
     "output_type": "error",
     "traceback": [
      "\u001b[31m---------------------------------------------------------------------------\u001b[39m",
      "\u001b[31mOperationalError\u001b[39m                          Traceback (most recent call last)",
      "\u001b[36mCell\u001b[39m\u001b[36m \u001b[39m\u001b[32mIn[40]\u001b[39m\u001b[32m, line 7\u001b[39m\n\u001b[32m      1\u001b[39m \u001b[38;5;66;03m# CREACION TABLA 4\u001b[39;00m\n\u001b[32m      2\u001b[39m query_create = \u001b[33m'''\u001b[39m\n\u001b[32m      3\u001b[39m \u001b[33mCREATE TABLE CATEGORIA(\u001b[39m\n\u001b[32m      4\u001b[39m \u001b[33m CODIGO_CAT        PRIMARY KEY NOT NULL,\u001b[39m\n\u001b[32m      5\u001b[39m \u001b[33m NOMBRE         TEXT\u001b[39m\n\u001b[32m      6\u001b[39m \u001b[33m )\u001b[39m\u001b[33m'''\u001b[39m\n\u001b[32m----> \u001b[39m\u001b[32m7\u001b[39m \u001b[43mcursor\u001b[49m\u001b[43m.\u001b[49m\u001b[43mexecute\u001b[49m\u001b[43m(\u001b[49m\u001b[43mquery_create\u001b[49m\u001b[43m)\u001b[49m\n",
      "\u001b[31mOperationalError\u001b[39m: table CATEGORIA already exists"
     ]
    }
   ],
   "source": [
    "# CREACION TABLA 4\n",
    "query_create = '''\n",
    "CREATE TABLE CATEGORIA(\n",
    " CODIGO_CAT        PRIMARY KEY NOT NULL,\n",
    " NOMBRE         TEXT\n",
    " )'''\n",
    "cursor.execute(query_create)"
   ]
  },
  {
   "cell_type": "code",
   "execution_count": 41,
   "id": "cc0afac8",
   "metadata": {},
   "outputs": [
    {
     "ename": "IntegrityError",
     "evalue": "UNIQUE constraint failed: PEDIDO_PROV.NUM_PEDIDO",
     "output_type": "error",
     "traceback": [
      "\u001b[31m---------------------------------------------------------------------------\u001b[39m",
      "\u001b[31mIntegrityError\u001b[39m                            Traceback (most recent call last)",
      "\u001b[36mCell\u001b[39m\u001b[36m \u001b[39m\u001b[32mIn[41]\u001b[39m\u001b[32m, line 14\u001b[39m\n\u001b[32m     12\u001b[39m CANTIDAD = valores[\u001b[32m3\u001b[39m]\n\u001b[32m     13\u001b[39m query= \u001b[33mf\u001b[39m\u001b[33m\"\u001b[39m\u001b[33mINSERT INTO PEDIDO_PROV (NUM_PEDIDO, ID_PIEZA, ID_PROVEEDOR, FECHA, CANTIDAD) VALUES (\u001b[39m\u001b[33m'\u001b[39m\u001b[38;5;132;01m{\u001b[39;00mindice\u001b[38;5;132;01m}\u001b[39;00m\u001b[33m'\u001b[39m\u001b[33m, \u001b[39m\u001b[33m'\u001b[39m\u001b[38;5;132;01m{\u001b[39;00mID_PIEZA\u001b[38;5;132;01m}\u001b[39;00m\u001b[33m'\u001b[39m\u001b[33m, \u001b[39m\u001b[33m'\u001b[39m\u001b[38;5;132;01m{\u001b[39;00mID_PROVEEDOR\u001b[38;5;132;01m}\u001b[39;00m\u001b[33m'\u001b[39m\u001b[33m,\u001b[39m\u001b[33m'\u001b[39m\u001b[38;5;132;01m{\u001b[39;00mFECHA\u001b[38;5;132;01m}\u001b[39;00m\u001b[33m'\u001b[39m\u001b[33m, \u001b[39m\u001b[38;5;132;01m{\u001b[39;00mCANTIDAD\u001b[38;5;132;01m}\u001b[39;00m\u001b[33m)\u001b[39m\u001b[33m\"\u001b[39m\n\u001b[32m---> \u001b[39m\u001b[32m14\u001b[39m \u001b[43mcursor\u001b[49m\u001b[43m.\u001b[49m\u001b[43mexecute\u001b[49m\u001b[43m(\u001b[49m\u001b[43mquery\u001b[49m\u001b[43m)\u001b[49m\n",
      "\u001b[31mIntegrityError\u001b[39m: UNIQUE constraint failed: PEDIDO_PROV.NUM_PEDIDO"
     ]
    }
   ],
   "source": [
    "# INSERT DATOS TABLA 2\n",
    "datos={\n",
    "\"PEDIDO_01\" : (\"IDP1234\", \"ID102\", \"20250115\", 10),\n",
    "\"PEDIDO_02\" : (\"IDP9876\", \"ID102\", \"20250215\", 2),\n",
    "\"PEDIDO_03\" : (\"IDP4567\", \"ID103\", \"20250128\", 25)\n",
    "}\n",
    "\n",
    "for indice, (nombre, valores) in enumerate (datos.items()):\n",
    "    ID_PIEZA = valores[0]\n",
    "    ID_PROVEEDOR = valores[1]\n",
    "    FECHA = valores[2]\n",
    "    CANTIDAD = valores[3]\n",
    "    query= f\"INSERT INTO PEDIDO_PROV (NUM_PEDIDO, ID_PIEZA, ID_PROVEEDOR, FECHA, CANTIDAD) VALUES ('{indice}', '{ID_PIEZA}', '{ID_PROVEEDOR}','{FECHA}', {CANTIDAD})\"\n",
    "    cursor.execute(query)"
   ]
  },
  {
   "cell_type": "code",
   "execution_count": 42,
   "id": "1ff2d1e5",
   "metadata": {},
   "outputs": [
    {
     "ename": "IntegrityError",
     "evalue": "UNIQUE constraint failed: PIEZAS.ID_PIEZA",
     "output_type": "error",
     "traceback": [
      "\u001b[31m---------------------------------------------------------------------------\u001b[39m",
      "\u001b[31mIntegrityError\u001b[39m                            Traceback (most recent call last)",
      "\u001b[36mCell\u001b[39m\u001b[36m \u001b[39m\u001b[32mIn[42]\u001b[39m\u001b[32m, line 14\u001b[39m\n\u001b[32m     12\u001b[39m CATEGORIA = valores[\u001b[32m2\u001b[39m]\n\u001b[32m     13\u001b[39m query= \u001b[33mf\u001b[39m\u001b[33m\"\u001b[39m\u001b[33mINSERT INTO PIEZAS (ID_PIEZA, NOMBRE, PRECIO, CATEGORIA) VALUES (\u001b[39m\u001b[33m'\u001b[39m\u001b[38;5;132;01m{\u001b[39;00mindice\u001b[38;5;132;01m}\u001b[39;00m\u001b[33m'\u001b[39m\u001b[33m, \u001b[39m\u001b[33m'\u001b[39m\u001b[38;5;132;01m{\u001b[39;00mNOMBRE\u001b[38;5;132;01m}\u001b[39;00m\u001b[33m'\u001b[39m\u001b[33m, \u001b[39m\u001b[38;5;132;01m{\u001b[39;00mPRECIO\u001b[38;5;132;01m}\u001b[39;00m\u001b[33m, \u001b[39m\u001b[33m'\u001b[39m\u001b[38;5;132;01m{\u001b[39;00mCATEGORIA\u001b[38;5;132;01m}\u001b[39;00m\u001b[33m'\u001b[39m\u001b[33m)\u001b[39m\u001b[33m\"\u001b[39m\n\u001b[32m---> \u001b[39m\u001b[32m14\u001b[39m \u001b[43mcursor\u001b[49m\u001b[43m.\u001b[49m\u001b[43mexecute\u001b[49m\u001b[43m(\u001b[49m\u001b[43mquery\u001b[49m\u001b[43m)\u001b[49m\n",
      "\u001b[31mIntegrityError\u001b[39m: UNIQUE constraint failed: PIEZAS.ID_PIEZA"
     ]
    }
   ],
   "source": [
    "# INSERT DATOS TABLA 3\n",
    "datos={\n",
    "\"ID10234\" : (\"clavo\", 0.01, \"gasto\"),\n",
    "\"ID9876\" : (\"tornillo\", 0.01, \"gaasto\"),\n",
    "\"ID9998\" : (\"mesas\", 300 , \"inversion\"),\n",
    "\"ID9999\" : (\"ordenadores\", 950, \"inversion\")\n",
    "}\n",
    "\n",
    "for indice, (nombre, valores) in enumerate (datos.items()):\n",
    "    NOMBRE = valores[0]\n",
    "    PRECIO = valores[1]\n",
    "    CATEGORIA = valores[2]\n",
    "    query= f\"INSERT INTO PIEZAS (ID_PIEZA, NOMBRE, PRECIO, CATEGORIA) VALUES ('{indice}', '{NOMBRE}', {PRECIO}, '{CATEGORIA}')\"\n",
    "    cursor.execute(query)"
   ]
  },
  {
   "cell_type": "code",
   "execution_count": 43,
   "id": "7312119a",
   "metadata": {},
   "outputs": [
    {
     "ename": "IntegrityError",
     "evalue": "UNIQUE constraint failed: CATEGORIA.CODIGO_CAT",
     "output_type": "error",
     "traceback": [
      "\u001b[31m---------------------------------------------------------------------------\u001b[39m",
      "\u001b[31mIntegrityError\u001b[39m                            Traceback (most recent call last)",
      "\u001b[36mCell\u001b[39m\u001b[36m \u001b[39m\u001b[32mIn[43]\u001b[39m\u001b[32m, line 10\u001b[39m\n\u001b[32m      8\u001b[39m NOMBRE = valores[\u001b[32m0\u001b[39m]\n\u001b[32m      9\u001b[39m query= \u001b[33mf\u001b[39m\u001b[33m\"\u001b[39m\u001b[33mINSERT INTO CATEGORIA (CODIGO_CAT, NOMBRE) VALUES (\u001b[39m\u001b[33m'\u001b[39m\u001b[38;5;132;01m{\u001b[39;00mindice\u001b[38;5;132;01m}\u001b[39;00m\u001b[33m'\u001b[39m\u001b[33m, \u001b[39m\u001b[33m'\u001b[39m\u001b[38;5;132;01m{\u001b[39;00mNOMBRE\u001b[38;5;132;01m}\u001b[39;00m\u001b[33m'\u001b[39m\u001b[33m)\u001b[39m\u001b[33m\"\u001b[39m\n\u001b[32m---> \u001b[39m\u001b[32m10\u001b[39m \u001b[43mcursor\u001b[49m\u001b[43m.\u001b[49m\u001b[43mexecute\u001b[49m\u001b[43m(\u001b[49m\u001b[43mquery\u001b[49m\u001b[43m)\u001b[49m\n",
      "\u001b[31mIntegrityError\u001b[39m: UNIQUE constraint failed: CATEGORIA.CODIGO_CAT"
     ]
    }
   ],
   "source": [
    "# INSERT DATOS TABLA 4\n",
    "datos={\n",
    "\"gasto\" : (\"A1\"),\n",
    "\"inversion\" : (\"B1\"),\n",
    "}\n",
    "\n",
    "for indice, (nombre, valores) in enumerate (datos.items()):\n",
    "    NOMBRE = valores[0]\n",
    "    query= f\"INSERT INTO CATEGORIA (CODIGO_CAT, NOMBRE) VALUES ('{indice}', '{NOMBRE}')\"\n",
    "    cursor.execute(query)"
   ]
  },
  {
   "cell_type": "code",
   "execution_count": 44,
   "id": "6bc32646",
   "metadata": {},
   "outputs": [],
   "source": [
    "connection.commit()"
   ]
  },
  {
   "cell_type": "code",
   "execution_count": 45,
   "id": "c55e30ba",
   "metadata": {},
   "outputs": [
    {
     "name": "stdout",
     "output_type": "stream",
     "text": [
      "<class 'pandas.core.frame.DataFrame'>\n",
      "RangeIndex: 3 entries, 0 to 2\n",
      "Data columns (total 5 columns):\n",
      " #   Column        Non-Null Count  Dtype \n",
      "---  ------        --------------  ----- \n",
      " 0   NUM_PEDIDO    3 non-null      object\n",
      " 1   ID_PIEZA      3 non-null      object\n",
      " 2   ID_PROVEEDOR  3 non-null      object\n",
      " 3   FECHA         3 non-null      object\n",
      " 4   CANTIDAD      3 non-null      object\n",
      "dtypes: object(5)\n",
      "memory usage: 252.0+ bytes\n"
     ]
    }
   ],
   "source": [
    "query = ''' SELECT* FROM PEDIDO_PROV'''\n",
    "num_pedido= pd.read_sql(query, connection)\n",
    "num_pedido.info()"
   ]
  },
  {
   "cell_type": "code",
   "execution_count": 46,
   "id": "6cefe0f8",
   "metadata": {},
   "outputs": [
    {
     "data": {
      "text/html": [
       "<div>\n",
       "<style scoped>\n",
       "    .dataframe tbody tr th:only-of-type {\n",
       "        vertical-align: middle;\n",
       "    }\n",
       "\n",
       "    .dataframe tbody tr th {\n",
       "        vertical-align: top;\n",
       "    }\n",
       "\n",
       "    .dataframe thead th {\n",
       "        text-align: right;\n",
       "    }\n",
       "</style>\n",
       "<table border=\"1\" class=\"dataframe\">\n",
       "  <thead>\n",
       "    <tr style=\"text-align: right;\">\n",
       "      <th></th>\n",
       "      <th>ID_PIEZA</th>\n",
       "      <th>NOMBRE</th>\n",
       "      <th>COLOR</th>\n",
       "      <th>PRECIO</th>\n",
       "      <th>CATEGORIA</th>\n",
       "    </tr>\n",
       "  </thead>\n",
       "  <tbody>\n",
       "    <tr>\n",
       "      <th>0</th>\n",
       "      <td>0</td>\n",
       "      <td>clavo</td>\n",
       "      <td>None</td>\n",
       "      <td>0.01</td>\n",
       "      <td>gasto</td>\n",
       "    </tr>\n",
       "    <tr>\n",
       "      <th>1</th>\n",
       "      <td>1</td>\n",
       "      <td>tornillo</td>\n",
       "      <td>None</td>\n",
       "      <td>0.01</td>\n",
       "      <td>gaasto</td>\n",
       "    </tr>\n",
       "    <tr>\n",
       "      <th>2</th>\n",
       "      <td>2</td>\n",
       "      <td>mesas</td>\n",
       "      <td>None</td>\n",
       "      <td>300.00</td>\n",
       "      <td>inversion</td>\n",
       "    </tr>\n",
       "    <tr>\n",
       "      <th>3</th>\n",
       "      <td>3</td>\n",
       "      <td>ordenadores</td>\n",
       "      <td>None</td>\n",
       "      <td>950.00</td>\n",
       "      <td>inversion</td>\n",
       "    </tr>\n",
       "  </tbody>\n",
       "</table>\n",
       "</div>"
      ],
      "text/plain": [
       "  ID_PIEZA       NOMBRE COLOR  PRECIO  CATEGORIA\n",
       "0        0        clavo  None    0.01      gasto\n",
       "1        1     tornillo  None    0.01     gaasto\n",
       "2        2        mesas  None  300.00  inversion\n",
       "3        3  ordenadores  None  950.00  inversion"
      ]
     },
     "execution_count": 46,
     "metadata": {},
     "output_type": "execute_result"
    }
   ],
   "source": [
    "query = ''' SELECT* FROM PIEZAS'''\n",
    "Piezas= pd.read_sql(query, connection)\n",
    "Piezas.head()"
   ]
  },
  {
   "cell_type": "code",
   "execution_count": 47,
   "id": "c7d94a3d",
   "metadata": {},
   "outputs": [
    {
     "name": "stdout",
     "output_type": "stream",
     "text": [
      "<class 'pandas.core.frame.DataFrame'>\n",
      "RangeIndex: 2 entries, 0 to 1\n",
      "Data columns (total 2 columns):\n",
      " #   Column      Non-Null Count  Dtype \n",
      "---  ------      --------------  ----- \n",
      " 0   CODIGO_CAT  2 non-null      object\n",
      " 1   NOMBRE      2 non-null      object\n",
      "dtypes: object(2)\n",
      "memory usage: 164.0+ bytes\n"
     ]
    }
   ],
   "source": [
    "query = ''' SELECT* FROM CATEGORIA'''\n",
    "categoria= pd.read_sql(query, connection)\n",
    "categoria.info()"
   ]
  },
  {
   "cell_type": "code",
   "execution_count": 48,
   "id": "2b7d509f",
   "metadata": {},
   "outputs": [],
   "source": [
    "connection.commit()"
   ]
  },
  {
   "cell_type": "code",
   "execution_count": 49,
   "id": "6e803528",
   "metadata": {},
   "outputs": [],
   "source": [
    "connection.close()"
   ]
  },
  {
   "cell_type": "code",
   "execution_count": 50,
   "id": "bf73e292",
   "metadata": {},
   "outputs": [],
   "source": [
    "connection = sqlite3.connect(\"DB_proveedores.bd\")\n",
    "cursor= connection.cursor()\n"
   ]
  },
  {
   "cell_type": "code",
   "execution_count": 54,
   "id": "cc346d56",
   "metadata": {},
   "outputs": [
    {
     "data": {
      "text/plain": [
       "[('20250115', '10', 'ID102', 'IDP1234'),\n",
       " ('20250215', '2', 'ID102', 'IDP9876'),\n",
       " ('20250128', '25', 'ID103', 'IDP4567')]"
      ]
     },
     "execution_count": 54,
     "metadata": {},
     "output_type": "execute_result"
    }
   ],
   "source": [
    "query = '''\n",
    "SELECT FECHA, CANTIDAD, ID_proveedor, ID_PIEZA\n",
    "FROM PEDIDO_PROV\n",
    "'''\n",
    "cursor.execute(query)\n",
    "cursor.fetchall()"
   ]
  }
 ],
 "metadata": {
  "kernelspec": {
   "display_name": "Python 3",
   "language": "python",
   "name": "python3"
  },
  "language_info": {
   "codemirror_mode": {
    "name": "ipython",
    "version": 3
   },
   "file_extension": ".py",
   "mimetype": "text/x-python",
   "name": "python",
   "nbconvert_exporter": "python",
   "pygments_lexer": "ipython3",
   "version": "3.13.2"
  }
 },
 "nbformat": 4,
 "nbformat_minor": 5
}
