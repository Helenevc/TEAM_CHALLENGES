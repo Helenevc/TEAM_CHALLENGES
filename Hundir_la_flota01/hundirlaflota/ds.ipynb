{
 "cells": [
  {
   "cell_type": "code",
   "execution_count": 3,
   "metadata": {},
   "outputs": [],
   "source": [
    "\"\"\" \n",
    "Vamos a establecer las diferentes clases\n",
    "\"\"\"\n",
    "import variables\n",
    "import clases\n",
    "import numpy as np\n",
    "import random"
   ]
  },
  {
   "cell_type": "code",
   "execution_count": 4,
   "metadata": {},
   "outputs": [
    {
     "ename": "NameError",
     "evalue": "name 'Barco' is not defined",
     "output_type": "error",
     "traceback": [
      "\u001b[31m---------------------------------------------------------------------------\u001b[39m",
      "\u001b[31mNameError\u001b[39m                                 Traceback (most recent call last)",
      "\u001b[36mCell\u001b[39m\u001b[36m \u001b[39m\u001b[32mIn[4]\u001b[39m\u001b[32m, line 1\u001b[39m\n\u001b[32m----> \u001b[39m\u001b[32m1\u001b[39m destructor = \u001b[43mBarco\u001b[49m(\u001b[33m\"\u001b[39m\u001b[33mDestructor\u001b[39m\u001b[33m\"\u001b[39m, \u001b[32m1\u001b[39m, \u001b[32m4\u001b[39m)\n\u001b[32m      2\u001b[39m Submarino = Barco(\u001b[33m\"\u001b[39m\u001b[33mSubmarino\u001b[39m\u001b[33m\"\u001b[39m, \u001b[32m2\u001b[39m, \u001b[32m3\u001b[39m)\n\u001b[32m      3\u001b[39m Acorazado = Barco(\u001b[33m\"\u001b[39m\u001b[33mAcorazado\u001b[39m\u001b[33m\"\u001b[39m, \u001b[32m3\u001b[39m, \u001b[32m2\u001b[39m)\n",
      "\u001b[31mNameError\u001b[39m: name 'Barco' is not defined"
     ]
    }
   ],
   "source": [
    "destructor = Barco(\"Destructor\", 1, 4)\n",
    "Submarino = Barco(\"Submarino\", 2, 3)\n",
    "Acorazado = Barco(\"Acorazado\", 3, 2)\n",
    "Portaaviones = Barco(\"Portaaviones\", 4, 1)     "
   ]
  },
  {
   "cell_type": "code",
   "execution_count": null,
   "metadata": {},
   "outputs": [],
   "source": [
    "class Tablero:\n",
    "\n",
    "    def creatablero (self,lado=10):\n",
    "        return np.full((lado, lado),\" \" )\n",
    "    \n",
    "    def colocabarco(self,barco, tablero):\n",
    "        orientación= [\"N\",\"S\",\"E\",\"O\"]\n",
    "        colocar= barco.posicion\n",
    "        newori=np.random.choice(orientación)\n",
    "        fila, columna = colocar[0]\n",
    "        \n",
    "        if newori == \"N\" and fila - (barco.cantidad - 1) >= 0:\n",
    "            for i in range(barco.cantidad):\n",
    "                if tablero[fila - i, columna] != \" \" and tablero == tablerojp:\n",
    "                    return \"Espacio ocupado, intenta de nuevo.\"\n",
    "            for i in range(barco.cantidad):\n",
    "                tablero[fila - i, columna] = \"O\"\n",
    "\n",
    "        elif newori == \"S\" and fila + (barco.cantidad - 1) < 10 and tablero == tablerojp:\n",
    "            for i in range(barco.cantidad):\n",
    "                if tablero[fila + i, columna] != \" \":\n",
    "                    return \"Espacio ocupado, intenta de nuevo.\"\n",
    "            for i in range(barco.cantidad):\n",
    "                tablero[fila + i, columna] = \"O\"\n",
    "\n",
    "        elif newori == \"E\" and columna + (barco.cantidad - 1) < 10 and tablero == tablerojp:\n",
    "            for i in range(barco.cantidad):\n",
    "                if tablero[fila, columna + i] != \" \":\n",
    "                    return \"Espacio ocupado, intenta de nuevo.\"\n",
    "            for i in range(barco.cantidad):\n",
    "                tablero[fila, columna + i] = \"O\"\n",
    "\n",
    "        elif newori == \"O\" and columna - (barco.cantidad - 1) >= 0 and tablero == tablerojp:\n",
    "            for i in range(barco.cantidad):\n",
    "                if tablero[fila, columna - i] != \" \":\n",
    "                    return \"Espacio ocupado, intenta de nuevo.\"\n",
    "            for i in range(barco.cantidad):\n",
    "                tablero[fila, columna - i] = \"O\"\n",
    "        else:\n",
    "            print(f\"La CPU ha colocado sus barcos\")\n",
    "        return tablero"
   ]
  },
  {
   "cell_type": "code",
   "execution_count": null,
   "metadata": {},
   "outputs": [],
   "source": [
    "def iniciarjuego():\n",
    "    print(mensajeinicial)\n",
    "    nombrejp = input(\"Nombre de jugador:\")\n",
    "    print(tablerojp)\n",
    "    print(f\"Bienvenido {nombrejp} vamos a colocar tus barcos\")"
   ]
  },
  {
   "cell_type": "code",
   "execution_count": null,
   "metadata": {},
   "outputs": [
    {
     "ename": "NameError",
     "evalue": "name 'mensajeinicial' is not defined",
     "output_type": "error",
     "traceback": [
      "\u001b[1;31m---------------------------------------------------------------------------\u001b[0m",
      "\u001b[1;31mNameError\u001b[0m                                 Traceback (most recent call last)",
      "Cell \u001b[1;32mIn[19], line 1\u001b[0m\n\u001b[1;32m----> 1\u001b[0m \u001b[43miniciarjuego\u001b[49m\u001b[43m(\u001b[49m\u001b[43m)\u001b[49m\n",
      "Cell \u001b[1;32mIn[17], line 2\u001b[0m, in \u001b[0;36miniciarjuego\u001b[1;34m()\u001b[0m\n\u001b[0;32m      1\u001b[0m \u001b[38;5;28;01mdef\u001b[39;00m\u001b[38;5;250m \u001b[39m\u001b[38;5;21miniciarjuego\u001b[39m():\n\u001b[1;32m----> 2\u001b[0m     \u001b[38;5;28mprint\u001b[39m(\u001b[43mmensajeinicial\u001b[49m)\n\u001b[0;32m      3\u001b[0m     nombrejp \u001b[38;5;241m=\u001b[39m \u001b[38;5;28minput\u001b[39m(\u001b[38;5;124m\"\u001b[39m\u001b[38;5;124mNombre de jugador:\u001b[39m\u001b[38;5;124m\"\u001b[39m)\n\u001b[0;32m      4\u001b[0m     \u001b[38;5;28mprint\u001b[39m(tablerojp)\n",
      "\u001b[1;31mNameError\u001b[0m: name 'mensajeinicial' is not defined"
     ]
    }
   ],
   "source": [
    "iniciarjuego()"
   ]
  },
  {
   "cell_type": "code",
   "execution_count": null,
   "metadata": {},
   "outputs": [],
   "source": []
  }
 ],
 "metadata": {
  "kernelspec": {
   "display_name": "Python 3",
   "language": "python",
   "name": "python3"
  },
  "language_info": {
   "codemirror_mode": {
    "name": "ipython",
    "version": 3
   },
   "file_extension": ".py",
   "mimetype": "text/x-python",
   "name": "python",
   "nbconvert_exporter": "python",
   "pygments_lexer": "ipython3",
   "version": "3.13.3"
  }
 },
 "nbformat": 4,
 "nbformat_minor": 2
}
